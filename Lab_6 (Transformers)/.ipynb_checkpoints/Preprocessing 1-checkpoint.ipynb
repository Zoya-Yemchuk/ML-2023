{
 "cells": [
  {
   "cell_type": "markdown",
   "id": "400680a4",
   "metadata": {},
   "source": [
    "# ЛАБОРАТОРНА РОБОТА  \n",
    "\n",
    "## \"Алгоритми та моделі перетворення даних\"\n",
    "\n",
    "__Метою__ лабораторної роботи є набуття практичних навичок використання модулів бібліотеки `Scikit-learn` для вирішення наступних задач:\n",
    "\n",
    "- визначення та розподілення данних по їх типам\n",
    "- вибір та застосування алгоритмів перетворення різноманітних типів даних\n",
    "- настроювання параметрів та застосування трансформерів\n",
    "- побудова конвеєра для автоматизації процесів трансформації даних\n",
    "\n",
    "__Результатом__ виконання лабораторної роботи повинен стати датасет, в якому колонки з покажчиком перетворені під для навчання моделей"
   ]
  },
  {
   "cell_type": "code",
   "execution_count": 1,
   "id": "50098a89",
   "metadata": {},
   "outputs": [],
   "source": [
    "# імпортувати бібліотеки pandas та numpy\n",
    "import pandas as pd\n",
    "import numpy as np"
   ]
  },
  {
   "cell_type": "markdown",
   "id": "306ace06",
   "metadata": {},
   "source": [
    "## Завдання\n",
    "\n",
    "Вхідним датасетом є csv-файл, отриманий в результаті виконання лабораторної роботи по конструюванню та очищеню покажчиків даних про продажі квартир рієлторської компанії.\n",
    "\n",
    "<h4 style='background-color:cyan; color:red; padding:15px'><ul>\n",
    "    <li>замість `...` вписуйте Ваш програмний код\n",
    "    <li>не змінюйте імена запропонованих зміних\n",
    "    </ul>\n",
    "</h4>"
   ]
  },
  {
   "cell_type": "code",
   "execution_count": 2,
   "id": "4428c2d4",
   "metadata": {},
   "outputs": [
    {
     "data": {
      "text/html": [
       "<div>\n",
       "<style scoped>\n",
       "    .dataframe tbody tr th:only-of-type {\n",
       "        vertical-align: middle;\n",
       "    }\n",
       "\n",
       "    .dataframe tbody tr th {\n",
       "        vertical-align: top;\n",
       "    }\n",
       "\n",
       "    .dataframe thead th {\n",
       "        text-align: right;\n",
       "    }\n",
       "</style>\n",
       "<table border=\"1\" class=\"dataframe\">\n",
       "  <thead>\n",
       "    <tr style=\"text-align: right;\">\n",
       "      <th></th>\n",
       "      <th>Price</th>\n",
       "      <th>rooms</th>\n",
       "      <th>price_per_m2</th>\n",
       "      <th>level</th>\n",
       "      <th>levels</th>\n",
       "      <th>year</th>\n",
       "      <th>area_total</th>\n",
       "      <th>area_living</th>\n",
       "      <th>area_kitchen</th>\n",
       "      <th>street</th>\n",
       "      <th>area_comfort</th>\n",
       "    </tr>\n",
       "  </thead>\n",
       "  <tbody>\n",
       "    <tr>\n",
       "      <th>0</th>\n",
       "      <td>140000.0</td>\n",
       "      <td>2.0</td>\n",
       "      <td>2258.0</td>\n",
       "      <td>7</td>\n",
       "      <td>9</td>\n",
       "      <td>1969</td>\n",
       "      <td>62.0</td>\n",
       "      <td>47.0</td>\n",
       "      <td>9.0</td>\n",
       "      <td>Омеляновича-Павленка</td>\n",
       "      <td>6.0</td>\n",
       "    </tr>\n",
       "    <tr>\n",
       "      <th>1</th>\n",
       "      <td>105000.0</td>\n",
       "      <td>4.0</td>\n",
       "      <td>847.0</td>\n",
       "      <td>25</td>\n",
       "      <td>26</td>\n",
       "      <td>2018</td>\n",
       "      <td>124.0</td>\n",
       "      <td>71.0</td>\n",
       "      <td>16.0</td>\n",
       "      <td>Ованеса Туманяна</td>\n",
       "      <td>37.0</td>\n",
       "    </tr>\n",
       "    <tr>\n",
       "      <th>2</th>\n",
       "      <td>175000.0</td>\n",
       "      <td>3.0</td>\n",
       "      <td>1786.0</td>\n",
       "      <td>25</td>\n",
       "      <td>26</td>\n",
       "      <td>2010</td>\n",
       "      <td>98.0</td>\n",
       "      <td>37.0</td>\n",
       "      <td>14.0</td>\n",
       "      <td>Ованеса Туманяна</td>\n",
       "      <td>47.0</td>\n",
       "    </tr>\n",
       "    <tr>\n",
       "      <th>3</th>\n",
       "      <td>30970.0</td>\n",
       "      <td>1.0</td>\n",
       "      <td>1106.0</td>\n",
       "      <td>12</td>\n",
       "      <td>13</td>\n",
       "      <td>2013</td>\n",
       "      <td>28.0</td>\n",
       "      <td>13.0</td>\n",
       "      <td>5.0</td>\n",
       "      <td>Петропавлівська</td>\n",
       "      <td>10.0</td>\n",
       "    </tr>\n",
       "    <tr>\n",
       "      <th>4</th>\n",
       "      <td>82000.0</td>\n",
       "      <td>2.0</td>\n",
       "      <td>1281.0</td>\n",
       "      <td>18</td>\n",
       "      <td>26</td>\n",
       "      <td>2009</td>\n",
       "      <td>64.0</td>\n",
       "      <td>37.0</td>\n",
       "      <td>14.0</td>\n",
       "      <td>Дніпровська</td>\n",
       "      <td>13.0</td>\n",
       "    </tr>\n",
       "  </tbody>\n",
       "</table>\n",
       "</div>"
      ],
      "text/plain": [
       "      Price  rooms  price_per_m2  level  levels  year  area_total  \\\n",
       "0  140000.0    2.0        2258.0      7       9  1969        62.0   \n",
       "1  105000.0    4.0         847.0     25      26  2018       124.0   \n",
       "2  175000.0    3.0        1786.0     25      26  2010        98.0   \n",
       "3   30970.0    1.0        1106.0     12      13  2013        28.0   \n",
       "4   82000.0    2.0        1281.0     18      26  2009        64.0   \n",
       "\n",
       "   area_living  area_kitchen                street  area_comfort  \n",
       "0         47.0           9.0  Омеляновича-Павленка           6.0  \n",
       "1         71.0          16.0      Ованеса Туманяна          37.0  \n",
       "2         37.0          14.0      Ованеса Туманяна          47.0  \n",
       "3         13.0           5.0       Петропавлівська          10.0  \n",
       "4         37.0          14.0           Дніпровська          13.0  "
      ]
     },
     "execution_count": 2,
     "metadata": {},
     "output_type": "execute_result"
    }
   ],
   "source": [
    "# ззчитати підготовлений датасет `apartments_clean.csv` в датафрейм та проінспектувати його стан\n",
    "data = pd.read_csv('/Users/zoyayemchuk/ML-2023/Lab_6/apatrments_clean.csv')\n",
    "data.head()"
   ]
  },
  {
   "cell_type": "code",
   "execution_count": 3,
   "id": "2800871f",
   "metadata": {},
   "outputs": [
    {
     "data": {
      "text/html": [
       "<div>\n",
       "<style scoped>\n",
       "    .dataframe tbody tr th:only-of-type {\n",
       "        vertical-align: middle;\n",
       "    }\n",
       "\n",
       "    .dataframe tbody tr th {\n",
       "        vertical-align: top;\n",
       "    }\n",
       "\n",
       "    .dataframe thead th {\n",
       "        text-align: right;\n",
       "    }\n",
       "</style>\n",
       "<table border=\"1\" class=\"dataframe\">\n",
       "  <thead>\n",
       "    <tr style=\"text-align: right;\">\n",
       "      <th></th>\n",
       "      <th>Price</th>\n",
       "      <th>rooms</th>\n",
       "      <th>price_per_m2</th>\n",
       "      <th>level</th>\n",
       "      <th>levels</th>\n",
       "      <th>year</th>\n",
       "      <th>area_total</th>\n",
       "      <th>area_living</th>\n",
       "      <th>area_kitchen</th>\n",
       "      <th>area_comfort</th>\n",
       "    </tr>\n",
       "  </thead>\n",
       "  <tbody>\n",
       "    <tr>\n",
       "      <th>count</th>\n",
       "      <td>6.760000e+02</td>\n",
       "      <td>676.000000</td>\n",
       "      <td>676.000000</td>\n",
       "      <td>676.000000</td>\n",
       "      <td>676.000000</td>\n",
       "      <td>676.000000</td>\n",
       "      <td>676.000000</td>\n",
       "      <td>676.000000</td>\n",
       "      <td>676.000000</td>\n",
       "      <td>676.000000</td>\n",
       "    </tr>\n",
       "    <tr>\n",
       "      <th>mean</th>\n",
       "      <td>1.980334e+05</td>\n",
       "      <td>2.235207</td>\n",
       "      <td>2078.428846</td>\n",
       "      <td>9.500000</td>\n",
       "      <td>17.637574</td>\n",
       "      <td>1999.593195</td>\n",
       "      <td>78.810651</td>\n",
       "      <td>40.828402</td>\n",
       "      <td>15.377219</td>\n",
       "      <td>24.800296</td>\n",
       "    </tr>\n",
       "    <tr>\n",
       "      <th>std</th>\n",
       "      <td>6.797337e+05</td>\n",
       "      <td>1.029636</td>\n",
       "      <td>6078.255527</td>\n",
       "      <td>6.790516</td>\n",
       "      <td>8.314931</td>\n",
       "      <td>24.288791</td>\n",
       "      <td>48.495769</td>\n",
       "      <td>25.926509</td>\n",
       "      <td>8.528541</td>\n",
       "      <td>30.708089</td>\n",
       "    </tr>\n",
       "    <tr>\n",
       "      <th>min</th>\n",
       "      <td>1.009210e+04</td>\n",
       "      <td>1.000000</td>\n",
       "      <td>478.000000</td>\n",
       "      <td>1.000000</td>\n",
       "      <td>2.000000</td>\n",
       "      <td>1860.000000</td>\n",
       "      <td>15.000000</td>\n",
       "      <td>10.000000</td>\n",
       "      <td>3.000000</td>\n",
       "      <td>0.000000</td>\n",
       "    </tr>\n",
       "    <tr>\n",
       "      <th>25%</th>\n",
       "      <td>6.500000e+04</td>\n",
       "      <td>1.000000</td>\n",
       "      <td>1146.875000</td>\n",
       "      <td>4.000000</td>\n",
       "      <td>9.000000</td>\n",
       "      <td>1995.000000</td>\n",
       "      <td>52.000000</td>\n",
       "      <td>30.000000</td>\n",
       "      <td>11.000000</td>\n",
       "      <td>13.000000</td>\n",
       "    </tr>\n",
       "    <tr>\n",
       "      <th>50%</th>\n",
       "      <td>1.034500e+05</td>\n",
       "      <td>2.000000</td>\n",
       "      <td>1550.000000</td>\n",
       "      <td>8.000000</td>\n",
       "      <td>18.000000</td>\n",
       "      <td>2009.000000</td>\n",
       "      <td>69.000000</td>\n",
       "      <td>37.000000</td>\n",
       "      <td>14.000000</td>\n",
       "      <td>18.000000</td>\n",
       "    </tr>\n",
       "    <tr>\n",
       "      <th>75%</th>\n",
       "      <td>1.689018e+05</td>\n",
       "      <td>3.000000</td>\n",
       "      <td>2158.275000</td>\n",
       "      <td>14.000000</td>\n",
       "      <td>25.000000</td>\n",
       "      <td>2015.000000</td>\n",
       "      <td>89.000000</td>\n",
       "      <td>43.000000</td>\n",
       "      <td>16.000000</td>\n",
       "      <td>27.000000</td>\n",
       "    </tr>\n",
       "    <tr>\n",
       "      <th>max</th>\n",
       "      <td>1.570000e+07</td>\n",
       "      <td>7.000000</td>\n",
       "      <td>157000.000000</td>\n",
       "      <td>33.000000</td>\n",
       "      <td>47.000000</td>\n",
       "      <td>2021.000000</td>\n",
       "      <td>520.000000</td>\n",
       "      <td>320.000000</td>\n",
       "      <td>78.000000</td>\n",
       "      <td>463.000000</td>\n",
       "    </tr>\n",
       "  </tbody>\n",
       "</table>\n",
       "</div>"
      ],
      "text/plain": [
       "              Price       rooms   price_per_m2       level      levels  \\\n",
       "count  6.760000e+02  676.000000     676.000000  676.000000  676.000000   \n",
       "mean   1.980334e+05    2.235207    2078.428846    9.500000   17.637574   \n",
       "std    6.797337e+05    1.029636    6078.255527    6.790516    8.314931   \n",
       "min    1.009210e+04    1.000000     478.000000    1.000000    2.000000   \n",
       "25%    6.500000e+04    1.000000    1146.875000    4.000000    9.000000   \n",
       "50%    1.034500e+05    2.000000    1550.000000    8.000000   18.000000   \n",
       "75%    1.689018e+05    3.000000    2158.275000   14.000000   25.000000   \n",
       "max    1.570000e+07    7.000000  157000.000000   33.000000   47.000000   \n",
       "\n",
       "              year  area_total  area_living  area_kitchen  area_comfort  \n",
       "count   676.000000  676.000000   676.000000    676.000000    676.000000  \n",
       "mean   1999.593195   78.810651    40.828402     15.377219     24.800296  \n",
       "std      24.288791   48.495769    25.926509      8.528541     30.708089  \n",
       "min    1860.000000   15.000000    10.000000      3.000000      0.000000  \n",
       "25%    1995.000000   52.000000    30.000000     11.000000     13.000000  \n",
       "50%    2009.000000   69.000000    37.000000     14.000000     18.000000  \n",
       "75%    2015.000000   89.000000    43.000000     16.000000     27.000000  \n",
       "max    2021.000000  520.000000   320.000000     78.000000    463.000000  "
      ]
     },
     "execution_count": 3,
     "metadata": {},
     "output_type": "execute_result"
    }
   ],
   "source": [
    "data.describe()"
   ]
  },
  {
   "cell_type": "markdown",
   "id": "9657db97",
   "metadata": {
    "heading_collapsed": true
   },
   "source": [
    "## 1. Визначення типів покажчиків вхідного датасету"
   ]
  },
  {
   "cell_type": "code",
   "execution_count": 4,
   "id": "fb9d7753",
   "metadata": {
    "hidden": true
   },
   "outputs": [],
   "source": [
    "# відокремити від робочого датасету колонку з цільовим показчиком (`Price`) \n",
    "# та вилучити її з обробки\n",
    "target = data[\"Price\"]\n",
    "data = data.drop([\"Price\"],axis=1)"
   ]
  },
  {
   "cell_type": "code",
   "execution_count": 5,
   "id": "dbb005f1",
   "metadata": {
    "hidden": true
   },
   "outputs": [
    {
     "data": {
      "text/plain": [
       "((676,), (676, 10))"
      ]
     },
     "execution_count": 5,
     "metadata": {},
     "output_type": "execute_result"
    }
   ],
   "source": [
    "# для самоперевірки: кількисть рядків в датасетах повинна співпадати!\n",
    "target.shape, data.shape"
   ]
  },
  {
   "cell_type": "code",
   "execution_count": 6,
   "id": "ae23f321",
   "metadata": {
    "hidden": true
   },
   "outputs": [],
   "source": [
    "# імпортувати з sklearn модуль, що відповідає за селективний відбір покажчиків\n",
    "from sklearn.compose import make_column_selector as selector"
   ]
  },
  {
   "cell_type": "code",
   "execution_count": 7,
   "id": "652f0ba2",
   "metadata": {
    "hidden": true
   },
   "outputs": [],
   "source": [
    "# побудувати  селектори для вібіру числових та категоріальних колонок\n",
    "numeric_selector = selector(dtype_exclude=object)\n",
    "category_selector = selector(dtype_include=object)"
   ]
  },
  {
   "cell_type": "code",
   "execution_count": 8,
   "id": "a673dde6",
   "metadata": {
    "hidden": true
   },
   "outputs": [
    {
     "name": "stdout",
     "output_type": "stream",
     "text": [
      "список числових покажчиків = ['rooms', 'price_per_m2', 'level', 'levels', 'year', 'area_total', 'area_living', 'area_kitchen', 'area_comfort']\n",
      "список категоріальних покажчиків = ['street']\n"
     ]
    }
   ],
   "source": [
    "# застосувати побудовані селектори для створення списків числових та категоріальних показчиків\n",
    "numeric_data_columns = numeric_selector(data)\n",
    "category_data_columns = category_selector(data)\n",
    "\n",
    "print(f'список числових покажчиків = {numeric_data_columns}')\n",
    "print(f'список категоріальних покажчиків = {category_data_columns}')"
   ]
  },
  {
   "cell_type": "code",
   "execution_count": 9,
   "id": "6ecaeec9",
   "metadata": {
    "hidden": true
   },
   "outputs": [
    {
     "data": {
      "text/plain": [
       "((676, 9), (676, 1))"
      ]
     },
     "execution_count": 9,
     "metadata": {},
     "output_type": "execute_result"
    }
   ],
   "source": [
    "# створити 2 окремі датасети: числовий та категоріальний та вивести їх основні властивості\n",
    "data_numeric = data.select_dtypes(exclude=object)\n",
    "data_category = data.select_dtypes(include=object)\n",
    "\n",
    "data_numeric.shape, data_category.shape"
   ]
  },
  {
   "cell_type": "markdown",
   "id": "6702f1f4",
   "metadata": {},
   "source": [
    "## 2. Маштабування числових та категоріальних колонок"
   ]
  },
  {
   "cell_type": "markdown",
   "id": "73613dc5",
   "metadata": {
    "heading_collapsed": true
   },
   "source": [
    "### 2.1. Маштабування числових показчиків"
   ]
  },
  {
   "cell_type": "code",
   "execution_count": 10,
   "id": "17349145",
   "metadata": {
    "hidden": true
   },
   "outputs": [],
   "source": [
    "# з модуля `preprocessing` імпортувати нормалізатор 'MinMaxScaler' та стандартизатор 'StandardScaler'\n",
    "from sklearn.preprocessing import MinMaxScaler, StandardScaler"
   ]
  },
  {
   "cell_type": "code",
   "execution_count": 11,
   "id": "6fc56713",
   "metadata": {
    "hidden": true
   },
   "outputs": [],
   "source": [
    "# створити відповідні маштабувачі\n",
    "standart_scaler = StandardScaler()\n",
    "min_max_scaler = MinMaxScaler()"
   ]
  },
  {
   "cell_type": "code",
   "execution_count": 12,
   "id": "0f4a23e6",
   "metadata": {
    "hidden": true
   },
   "outputs": [],
   "source": [
    "# побудувати змаштабовані датасети за двома стратегіями: стандартизація та нормалізація\n",
    "data_numeric_std = standart_scaler.fit_transform(data_numeric)\n",
    "data_numeric_min_max = min_max_scaler.fit_transform(data_numeric)"
   ]
  },
  {
   "cell_type": "code",
   "execution_count": 13,
   "id": "073fcba6",
   "metadata": {},
   "outputs": [
    {
     "name": "stdout",
     "output_type": "stream",
     "text": [
      "[[0.16666667 0.0113722  0.1875     ... 0.11935484 0.08       0.01295896]\n",
      " [0.5        0.0023575  0.75       ... 0.19677419 0.17333333 0.07991361]\n",
      " [0.33333333 0.00835665 0.75       ... 0.08709677 0.14666667 0.10151188]\n",
      " ...\n",
      " [0.         0.01190887 0.1875     ... 0.03225806 0.05333333 0.0237581 ]\n",
      " [0.16666667 0.01391498 0.125      ... 0.08709677 0.08       0.03887689]\n",
      " [0.16666667 0.00340527 0.125      ... 0.06774194 0.05333333 0.01727862]]\n"
     ]
    }
   ],
   "source": [
    "print(data_numeric_min_max)"
   ]
  },
  {
   "cell_type": "code",
   "execution_count": 14,
   "id": "343c666c",
   "metadata": {
    "hidden": true
   },
   "outputs": [
    {
     "name": "stderr",
     "output_type": "stream",
     "text": [
      "/var/folders/1m/9nml_jpd57q2zw_jl9mf49vw0000gn/T/ipykernel_9259/3443147912.py:5: UserWarning: \n",
      "\n",
      "`distplot` is a deprecated function and will be removed in seaborn v0.14.0.\n",
      "\n",
      "Please adapt your code to use either `displot` (a figure-level function with\n",
      "similar flexibility) or `histplot` (an axes-level function for histograms).\n",
      "\n",
      "For a guide to updating your code to use the new functions, please see\n",
      "https://gist.github.com/mwaskom/de44147ed2974457ad6372750bbe5751\n",
      "\n",
      "  sns.distplot(data_numeric_min_max.flatten()).set(title='Нормалізація')\n"
     ]
    },
    {
     "data": {
      "text/plain": [
       "[Text(0.5, 1.0, 'Нормалізація')]"
      ]
     },
     "execution_count": 14,
     "metadata": {},
     "output_type": "execute_result"
    },
    {
     "data": {
      "image/png": "[encoded data removed]",
      "text/plain": [
       "<Figure size 640x480 with 1 Axes>"
      ]
     },
     "metadata": {},
     "output_type": "display_data"
    }
   ],
   "source": [
    "# побудувати графіки розподілення значень показчиків при\n",
    "# стандартном та нормалізованом маштабуванні\n",
    "\n",
    "import seaborn as sns\n",
    "sns.distplot(data_numeric_min_max.flatten()).set(title='Нормалізація')"
   ]
  },
  {
   "cell_type": "code",
   "execution_count": 15,
   "id": "d403918e",
   "metadata": {},
   "outputs": [
    {
     "name": "stderr",
     "output_type": "stream",
     "text": [
      "/var/folders/1m/9nml_jpd57q2zw_jl9mf49vw0000gn/T/ipykernel_9259/2627631276.py:1: UserWarning: \n",
      "\n",
      "`distplot` is a deprecated function and will be removed in seaborn v0.14.0.\n",
      "\n",
      "Please adapt your code to use either `displot` (a figure-level function with\n",
      "similar flexibility) or `histplot` (an axes-level function for histograms).\n",
      "\n",
      "For a guide to updating your code to use the new functions, please see\n",
      "https://gist.github.com/mwaskom/de44147ed2974457ad6372750bbe5751\n",
      "\n",
      "  sns.distplot(data_numeric_std.flatten()).set(title='Стандартизація')\n"
     ]
    },
    {
     "data": {
      "text/plain": [
       "[Text(0.5, 1.0, 'Стандартизація')]"
      ]
     },
     "execution_count": 15,
     "metadata": {},
     "output_type": "execute_result"
    },
    {
     "data": {
      "image/png": "[encoded data removed]",
      "text/plain": [
       "<Figure size 640x480 with 1 Axes>"
      ]
     },
     "metadata": {},
     "output_type": "display_data"
    }
   ],
   "source": [
    "sns.distplot(data_numeric_std.flatten()).set(title='Стандартизація')"
   ]
  },
  {
   "cell_type": "markdown",
   "id": "2f9eb8f4",
   "metadata": {},
   "source": [
    "У початковому датасеті:\n",
    "1. відсутні від'ємні значення\n",
    "2. числа не мають багато значень після коми (формат .0)\n",
    "3. діапазон значень в різних колонках досить відрізняється (напр. 9 та 140000.0)\n",
    "\n",
    "Переглянувши графіки розподілу даних після застосування стандартизації та нормалізації, бачимо, що графік стандартизації має нормальний розподіл.\n",
    "\n",
    "Отже, кращим варіантом у даному випадку буде застосування стандартизації даних."
   ]
  },
  {
   "cell_type": "markdown",
   "id": "3813999f",
   "metadata": {
    "hidden": true
   },
   "source": [
    "#####  __проаналізувати графіки та визначись який маштабувач краще підходить до числовї підмножини робочого датасету__"
   ]
  },
  {
   "cell_type": "markdown",
   "id": "b76b10d8",
   "metadata": {
    "heading_collapsed": true
   },
   "source": [
    "### 2.1. Маштабування категоріальних показчиків"
   ]
  },
  {
   "cell_type": "code",
   "execution_count": 16,
   "id": "8f404fef",
   "metadata": {
    "hidden": true
   },
   "outputs": [],
   "source": [
    "# з модуля `preporcessing` імпортувати кодувальники 'OrdinalEncoder' та 'OneHotEncoder'\n",
    "from sklearn.preprocessing import OrdinalEncoder, OneHotEncoder"
   ]
  },
  {
   "cell_type": "code",
   "execution_count": 17,
   "id": "ae74c008",
   "metadata": {},
   "outputs": [],
   "source": [
    "# створити енкодери та закодувати ними відповідні категоріальні колонки\n",
    "ordinal_encoder = OrdinalEncoder()\n",
    "one_hot_encoder = OneHotEncoder(handle_unknown='ignore')"
   ]
  },
  {
   "cell_type": "code",
   "execution_count": 18,
   "id": "9118d4ce",
   "metadata": {
    "hidden": true
   },
   "outputs": [],
   "source": [
    "# проаналізувати категоріальні показчики та визначитись до якого показчика\n",
    "# який енкодер доцільно застосовувати\n",
    "data_cat_oridin = ordinal_encoder.fit_transform(data_category.iloc[:,2:])\n",
    "data_cat_one_hot = one_hot_encoder.fit_transform(data_category.iloc[:,:2])"
   ]
  },
  {
   "cell_type": "code",
   "execution_count": 19,
   "id": "a037c9b3",
   "metadata": {
    "scrolled": true
   },
   "outputs": [
    {
     "data": {
      "text/plain": [
       "((676, 0), (676, 269))"
      ]
     },
     "execution_count": 19,
     "metadata": {},
     "output_type": "execute_result"
    }
   ],
   "source": [
    "data_cat_oridin.shape, data_cat_one_hot.shape"
   ]
  },
  {
   "cell_type": "markdown",
   "id": "cfde409f",
   "metadata": {},
   "source": [
    "Для стовпця категоріальних даних з назвами вулиць street не суттєвий порядок даних, тож будемо застосовувати OneHotEncoder"
   ]
  },
  {
   "cell_type": "markdown",
   "id": "bb506c75",
   "metadata": {
    "heading_collapsed": true
   },
   "source": [
    "## 3. Побудова трансформера для підготовки даних"
   ]
  },
  {
   "cell_type": "code",
   "execution_count": 20,
   "id": "7c6c1930",
   "metadata": {
    "hidden": true
   },
   "outputs": [],
   "source": [
    "# з модуля `compose` імпортувати трансформер колонок `ColumnTransformer`\n",
    "from sklearn.compose import ColumnTransformer"
   ]
  },
  {
   "cell_type": "code",
   "execution_count": 21,
   "id": "2605b0c2",
   "metadata": {
    "hidden": true
   },
   "outputs": [
    {
     "name": "stdout",
     "output_type": "stream",
     "text": [
      "ColumnTransformer(transformers=[('categirical_encoder',\n",
      "                                 OneHotEncoder(handle_unknown='ignore'),\n",
      "                                 ['street']),\n",
      "                                ('numeric_encoder', StandardScaler(),\n",
      "                                 ['rooms', 'price_per_m2', 'level', 'levels',\n",
      "                                  'year', 'area_total', 'area_living',\n",
      "                                  'area_kitchen', 'area_comfort'])])\n"
     ]
    }
   ],
   "source": [
    "# побудувати трансформер для предобробки числових та категоріальних показчиків\n",
    "# робочого датасету\n",
    "\n",
    "transformer = ColumnTransformer([\n",
    " ('categirical_encoder', one_hot_encoder, category_data_columns),\n",
    " ('numeric_encoder', standart_scaler, numeric_data_columns)\n",
    "])\n",
    "\n",
    "print(transformer)"
   ]
  },
  {
   "cell_type": "code",
   "execution_count": 22,
   "id": "f1fc8ebe",
   "metadata": {},
   "outputs": [
    {
     "data": {
      "text/html": [
       "<style>#sk-container-id-1 {color: black;background-color: white;}#sk-container-id-1 pre{padding: 0;}#sk-container-id-1 div.sk-toggleable {background-color: white;}#sk-container-id-1 label.sk-toggleable__label {cursor: pointer;display: block;width: 100%;margin-bottom: 0;padding: 0.3em;box-sizing: border-box;text-align: center;}#sk-container-id-1 label.sk-toggleable__label-arrow:before {content: \"▸\";float: left;margin-right: 0.25em;color: #696969;}#sk-container-id-1 label.sk-toggleable__label-arrow:hover:before {color: black;}#sk-container-id-1 div.sk-estimator:hover label.sk-toggleable__label-arrow:before {color: black;}#sk-container-id-1 div.sk-toggleable__content {max-height: 0;max-width: 0;overflow: hidden;text-align: left;background-color: #f0f8ff;}#sk-container-id-1 div.sk-toggleable__content pre {margin: 0.2em;color: black;border-radius: 0.25em;background-color: #f0f8ff;}#sk-container-id-1 input.sk-toggleable__control:checked~div.sk-toggleable__content {max-height: 200px;max-width: 100%;overflow: auto;}#sk-container-id-1 input.sk-toggleable__control:checked~label.sk-toggleable__label-arrow:before {content: \"▾\";}#sk-container-id-1 div.sk-estimator input.sk-toggleable__control:checked~label.sk-toggleable__label {background-color: #d4ebff;}#sk-container-id-1 div.sk-label input.sk-toggleable__control:checked~label.sk-toggleable__label {background-color: #d4ebff;}#sk-container-id-1 input.sk-hidden--visually {border: 0;clip: rect(1px 1px 1px 1px);clip: rect(1px, 1px, 1px, 1px);height: 1px;margin: -1px;overflow: hidden;padding: 0;position: absolute;width: 1px;}#sk-container-id-1 div.sk-estimator {font-family: monospace;background-color: #f0f8ff;border: 1px dotted black;border-radius: 0.25em;box-sizing: border-box;margin-bottom: 0.5em;}#sk-container-id-1 div.sk-estimator:hover {background-color: #d4ebff;}#sk-container-id-1 div.sk-parallel-item::after {content: \"\";width: 100%;border-bottom: 1px solid gray;flex-grow: 1;}#sk-container-id-1 div.sk-label:hover label.sk-toggleable__label {background-color: #d4ebff;}#sk-container-id-1 div.sk-serial::before {content: \"\";position: absolute;border-left: 1px solid gray;box-sizing: border-box;top: 0;bottom: 0;left: 50%;z-index: 0;}#sk-container-id-1 div.sk-serial {display: flex;flex-direction: column;align-items: center;background-color: white;padding-right: 0.2em;padding-left: 0.2em;position: relative;}#sk-container-id-1 div.sk-item {position: relative;z-index: 1;}#sk-container-id-1 div.sk-parallel {display: flex;align-items: stretch;justify-content: center;background-color: white;position: relative;}#sk-container-id-1 div.sk-item::before, #sk-container-id-1 div.sk-parallel-item::before {content: \"\";position: absolute;border-left: 1px solid gray;box-sizing: border-box;top: 0;bottom: 0;left: 50%;z-index: -1;}#sk-container-id-1 div.sk-parallel-item {display: flex;flex-direction: column;z-index: 1;position: relative;background-color: white;}#sk-container-id-1 div.sk-parallel-item:first-child::after {align-self: flex-end;width: 50%;}#sk-container-id-1 div.sk-parallel-item:last-child::after {align-self: flex-start;width: 50%;}#sk-container-id-1 div.sk-parallel-item:only-child::after {width: 0;}#sk-container-id-1 div.sk-dashed-wrapped {border: 1px dashed gray;margin: 0 0.4em 0.5em 0.4em;box-sizing: border-box;padding-bottom: 0.4em;background-color: white;}#sk-container-id-1 div.sk-label label {font-family: monospace;font-weight: bold;display: inline-block;line-height: 1.2em;}#sk-container-id-1 div.sk-label-container {text-align: center;}#sk-container-id-1 div.sk-container {/* jupyter's `normalize.less` sets `[hidden] { display: none; }` but bootstrap.min.css set `[hidden] { display: none !important; }` so we also need the `!important` here to be able to override the default hidden behavior on the sphinx rendered scikit-learn.org. See: https://github.com/scikit-learn/scikit-learn/issues/21755 */display: inline-block !important;position: relative;}#sk-container-id-1 div.sk-text-repr-fallback {display: none;}</style><div id=\"sk-container-id-1\" class=\"sk-top-container\"><div class=\"sk-text-repr-fallback\"><pre>ColumnTransformer(transformers=[(&#x27;categirical_encoder&#x27;,\n",
       "                                 OneHotEncoder(handle_unknown=&#x27;ignore&#x27;),\n",
       "                                 [&#x27;street&#x27;]),\n",
       "                                (&#x27;numeric_encoder&#x27;, StandardScaler(),\n",
       "                                 [&#x27;rooms&#x27;, &#x27;price_per_m2&#x27;, &#x27;level&#x27;, &#x27;levels&#x27;,\n",
       "                                  &#x27;year&#x27;, &#x27;area_total&#x27;, &#x27;area_living&#x27;,\n",
       "                                  &#x27;area_kitchen&#x27;, &#x27;area_comfort&#x27;])])</pre><b>In a Jupyter environment, please rerun this cell to show the HTML representation or trust the notebook. <br />On GitHub, the HTML representation is unable to render, please try loading this page with nbviewer.org.</b></div><div class=\"sk-container\" hidden><div class=\"sk-item sk-dashed-wrapped\"><div class=\"sk-label-container\"><div class=\"sk-label sk-toggleable\"><input class=\"sk-toggleable__control sk-hidden--visually\" id=\"sk-estimator-id-1\" type=\"checkbox\" ><label for=\"sk-estimator-id-1\" class=\"sk-toggleable__label sk-toggleable__label-arrow\">ColumnTransformer</label><div class=\"sk-toggleable__content\"><pre>ColumnTransformer(transformers=[(&#x27;categirical_encoder&#x27;,\n",
       "                                 OneHotEncoder(handle_unknown=&#x27;ignore&#x27;),\n",
       "                                 [&#x27;street&#x27;]),\n",
       "                                (&#x27;numeric_encoder&#x27;, StandardScaler(),\n",
       "                                 [&#x27;rooms&#x27;, &#x27;price_per_m2&#x27;, &#x27;level&#x27;, &#x27;levels&#x27;,\n",
       "                                  &#x27;year&#x27;, &#x27;area_total&#x27;, &#x27;area_living&#x27;,\n",
       "                                  &#x27;area_kitchen&#x27;, &#x27;area_comfort&#x27;])])</pre></div></div></div><div class=\"sk-parallel\"><div class=\"sk-parallel-item\"><div class=\"sk-item\"><div class=\"sk-label-container\"><div class=\"sk-label sk-toggleable\"><input class=\"sk-toggleable__control sk-hidden--visually\" id=\"sk-estimator-id-2\" type=\"checkbox\" ><label for=\"sk-estimator-id-2\" class=\"sk-toggleable__label sk-toggleable__label-arrow\">categirical_encoder</label><div class=\"sk-toggleable__content\"><pre>[&#x27;street&#x27;]</pre></div></div></div><div class=\"sk-serial\"><div class=\"sk-item\"><div class=\"sk-estimator sk-toggleable\"><input class=\"sk-toggleable__control sk-hidden--visually\" id=\"sk-estimator-id-3\" type=\"checkbox\" ><label for=\"sk-estimator-id-3\" class=\"sk-toggleable__label sk-toggleable__label-arrow\">OneHotEncoder</label><div class=\"sk-toggleable__content\"><pre>OneHotEncoder(handle_unknown=&#x27;ignore&#x27;)</pre></div></div></div></div></div></div><div class=\"sk-parallel-item\"><div class=\"sk-item\"><div class=\"sk-label-container\"><div class=\"sk-label sk-toggleable\"><input class=\"sk-toggleable__control sk-hidden--visually\" id=\"sk-estimator-id-4\" type=\"checkbox\" ><label for=\"sk-estimator-id-4\" class=\"sk-toggleable__label sk-toggleable__label-arrow\">numeric_encoder</label><div class=\"sk-toggleable__content\"><pre>[&#x27;rooms&#x27;, &#x27;price_per_m2&#x27;, &#x27;level&#x27;, &#x27;levels&#x27;, &#x27;year&#x27;, &#x27;area_total&#x27;, &#x27;area_living&#x27;, &#x27;area_kitchen&#x27;, &#x27;area_comfort&#x27;]</pre></div></div></div><div class=\"sk-serial\"><div class=\"sk-item\"><div class=\"sk-estimator sk-toggleable\"><input class=\"sk-toggleable__control sk-hidden--visually\" id=\"sk-estimator-id-5\" type=\"checkbox\" ><label for=\"sk-estimator-id-5\" class=\"sk-toggleable__label sk-toggleable__label-arrow\">StandardScaler</label><div class=\"sk-toggleable__content\"><pre>StandardScaler()</pre></div></div></div></div></div></div></div></div></div></div>"
      ],
      "text/plain": [
       "ColumnTransformer(transformers=[('categirical_encoder',\n",
       "                                 OneHotEncoder(handle_unknown='ignore'),\n",
       "                                 ['street']),\n",
       "                                ('numeric_encoder', StandardScaler(),\n",
       "                                 ['rooms', 'price_per_m2', 'level', 'levels',\n",
       "                                  'year', 'area_total', 'area_living',\n",
       "                                  'area_kitchen', 'area_comfort'])])"
      ]
     },
     "execution_count": 22,
     "metadata": {},
     "output_type": "execute_result"
    }
   ],
   "source": [
    "transformer"
   ]
  },
  {
   "cell_type": "code",
   "execution_count": 23,
   "id": "2375ade7",
   "metadata": {
    "code_folding": [],
    "hidden": true,
    "scrolled": true
   },
   "outputs": [
    {
     "data": {
      "text/plain": [
       "(676, 278)"
      ]
     },
     "execution_count": 23,
     "metadata": {},
     "output_type": "execute_result"
    }
   ],
   "source": [
    "# отримати вихідний масив застосував трансфомер до вхідного датасуту\n",
    "data_transformed = transformer.fit_transform(data)\n",
    "data_transformed.shape"
   ]
  },
  {
   "cell_type": "code",
   "execution_count": 24,
   "id": "ee92cf02",
   "metadata": {},
   "outputs": [],
   "source": [
    "transformed_features_names = transformer.get_feature_names_out()"
   ]
  },
  {
   "cell_type": "code",
   "execution_count": 25,
   "id": "4ea575ba",
   "metadata": {
    "hidden": true
   },
   "outputs": [],
   "source": [
    "# побудувати вихідний датафрейм з вихідного масиву додавши в першу колонку\n",
    "# ціловий показчик `target`\n",
    "apartment_transformed = pd.concat([target, pd.DataFrame(data_transformed.toarray(),\n",
    "                                                       columns=transformed_features_names)],axis=1)"
   ]
  },
  {
   "cell_type": "code",
   "execution_count": 26,
   "id": "392d36bf",
   "metadata": {
    "hidden": true
   },
   "outputs": [
    {
     "data": {
      "text/html": [
       "<div>\n",
       "<style scoped>\n",
       "    .dataframe tbody tr th:only-of-type {\n",
       "        vertical-align: middle;\n",
       "    }\n",
       "\n",
       "    .dataframe tbody tr th {\n",
       "        vertical-align: top;\n",
       "    }\n",
       "\n",
       "    .dataframe thead th {\n",
       "        text-align: right;\n",
       "    }\n",
       "</style>\n",
       "<table border=\"1\" class=\"dataframe\">\n",
       "  <thead>\n",
       "    <tr style=\"text-align: right;\">\n",
       "      <th></th>\n",
       "      <th>Price</th>\n",
       "      <th>categirical_encoder__street_Івана Мазепи</th>\n",
       "      <th>categirical_encoder__street_Івана Пулюя</th>\n",
       "      <th>categirical_encoder__street_Івана Федорова</th>\n",
       "      <th>categirical_encoder__street_Івашкевича</th>\n",
       "      <th>categirical_encoder__street_Іллєнка</th>\n",
       "      <th>categirical_encoder__street_Інститутська</th>\n",
       "      <th>categirical_encoder__street_Іскрівська</th>\n",
       "      <th>categirical_encoder__street_Автозаводська</th>\n",
       "      <th>categirical_encoder__street_Азербайджанська</th>\n",
       "      <th>...</th>\n",
       "      <th>categirical_encoder__street_Ясинуватський</th>\n",
       "      <th>numeric_encoder__rooms</th>\n",
       "      <th>numeric_encoder__price_per_m2</th>\n",
       "      <th>numeric_encoder__level</th>\n",
       "      <th>numeric_encoder__levels</th>\n",
       "      <th>numeric_encoder__year</th>\n",
       "      <th>numeric_encoder__area_total</th>\n",
       "      <th>numeric_encoder__area_living</th>\n",
       "      <th>numeric_encoder__area_kitchen</th>\n",
       "      <th>numeric_encoder__area_comfort</th>\n",
       "    </tr>\n",
       "  </thead>\n",
       "  <tbody>\n",
       "    <tr>\n",
       "      <th>0</th>\n",
       "      <td>140000.0</td>\n",
       "      <td>0.0</td>\n",
       "      <td>0.0</td>\n",
       "      <td>0.0</td>\n",
       "      <td>0.0</td>\n",
       "      <td>0.0</td>\n",
       "      <td>0.0</td>\n",
       "      <td>0.0</td>\n",
       "      <td>0.0</td>\n",
       "      <td>0.0</td>\n",
       "      <td>...</td>\n",
       "      <td>0.0</td>\n",
       "      <td>-0.228606</td>\n",
       "      <td>0.029565</td>\n",
       "      <td>-0.368433</td>\n",
       "      <td>-1.039572</td>\n",
       "      <td>-1.260493</td>\n",
       "      <td>-0.346898</td>\n",
       "      <td>0.238218</td>\n",
       "      <td>-0.748304</td>\n",
       "      <td>-0.612680</td>\n",
       "    </tr>\n",
       "    <tr>\n",
       "      <th>1</th>\n",
       "      <td>105000.0</td>\n",
       "      <td>0.0</td>\n",
       "      <td>0.0</td>\n",
       "      <td>0.0</td>\n",
       "      <td>0.0</td>\n",
       "      <td>0.0</td>\n",
       "      <td>0.0</td>\n",
       "      <td>0.0</td>\n",
       "      <td>0.0</td>\n",
       "      <td>0.0</td>\n",
       "      <td>...</td>\n",
       "      <td>0.0</td>\n",
       "      <td>1.715265</td>\n",
       "      <td>-0.202746</td>\n",
       "      <td>2.284285</td>\n",
       "      <td>1.006457</td>\n",
       "      <td>0.758392</td>\n",
       "      <td>0.932510</td>\n",
       "      <td>1.164597</td>\n",
       "      <td>0.073077</td>\n",
       "      <td>0.397574</td>\n",
       "    </tr>\n",
       "    <tr>\n",
       "      <th>2</th>\n",
       "      <td>175000.0</td>\n",
       "      <td>0.0</td>\n",
       "      <td>0.0</td>\n",
       "      <td>0.0</td>\n",
       "      <td>0.0</td>\n",
       "      <td>0.0</td>\n",
       "      <td>0.0</td>\n",
       "      <td>0.0</td>\n",
       "      <td>0.0</td>\n",
       "      <td>0.0</td>\n",
       "      <td>...</td>\n",
       "      <td>0.0</td>\n",
       "      <td>0.743330</td>\n",
       "      <td>-0.048146</td>\n",
       "      <td>2.284285</td>\n",
       "      <td>1.006457</td>\n",
       "      <td>0.428778</td>\n",
       "      <td>0.395984</td>\n",
       "      <td>-0.147773</td>\n",
       "      <td>-0.161603</td>\n",
       "      <td>0.723462</td>\n",
       "    </tr>\n",
       "    <tr>\n",
       "      <th>3</th>\n",
       "      <td>30970.0</td>\n",
       "      <td>0.0</td>\n",
       "      <td>0.0</td>\n",
       "      <td>0.0</td>\n",
       "      <td>0.0</td>\n",
       "      <td>0.0</td>\n",
       "      <td>0.0</td>\n",
       "      <td>0.0</td>\n",
       "      <td>0.0</td>\n",
       "      <td>0.0</td>\n",
       "      <td>...</td>\n",
       "      <td>0.0</td>\n",
       "      <td>-1.200542</td>\n",
       "      <td>-0.160103</td>\n",
       "      <td>0.368433</td>\n",
       "      <td>-0.558153</td>\n",
       "      <td>0.552384</td>\n",
       "      <td>-1.048509</td>\n",
       "      <td>-1.074152</td>\n",
       "      <td>-1.217665</td>\n",
       "      <td>-0.482324</td>\n",
       "    </tr>\n",
       "    <tr>\n",
       "      <th>4</th>\n",
       "      <td>82000.0</td>\n",
       "      <td>0.0</td>\n",
       "      <td>0.0</td>\n",
       "      <td>0.0</td>\n",
       "      <td>0.0</td>\n",
       "      <td>0.0</td>\n",
       "      <td>0.0</td>\n",
       "      <td>0.0</td>\n",
       "      <td>0.0</td>\n",
       "      <td>0.0</td>\n",
       "      <td>...</td>\n",
       "      <td>0.0</td>\n",
       "      <td>-0.228606</td>\n",
       "      <td>-0.131291</td>\n",
       "      <td>1.252673</td>\n",
       "      <td>1.006457</td>\n",
       "      <td>0.387577</td>\n",
       "      <td>-0.305627</td>\n",
       "      <td>-0.147773</td>\n",
       "      <td>-0.161603</td>\n",
       "      <td>-0.384558</td>\n",
       "    </tr>\n",
       "  </tbody>\n",
       "</table>\n",
       "<p>5 rows × 279 columns</p>\n",
       "</div>"
      ],
      "text/plain": [
       "      Price  categirical_encoder__street_Івана Мазепи  \\\n",
       "0  140000.0                                       0.0   \n",
       "1  105000.0                                       0.0   \n",
       "2  175000.0                                       0.0   \n",
       "3   30970.0                                       0.0   \n",
       "4   82000.0                                       0.0   \n",
       "\n",
       "   categirical_encoder__street_Івана Пулюя  \\\n",
       "0                                      0.0   \n",
       "1                                      0.0   \n",
       "2                                      0.0   \n",
       "3                                      0.0   \n",
       "4                                      0.0   \n",
       "\n",
       "   categirical_encoder__street_Івана Федорова  \\\n",
       "0                                         0.0   \n",
       "1                                         0.0   \n",
       "2                                         0.0   \n",
       "3                                         0.0   \n",
       "4                                         0.0   \n",
       "\n",
       "   categirical_encoder__street_Івашкевича  \\\n",
       "0                                     0.0   \n",
       "1                                     0.0   \n",
       "2                                     0.0   \n",
       "3                                     0.0   \n",
       "4                                     0.0   \n",
       "\n",
       "   categirical_encoder__street_Іллєнка  \\\n",
       "0                                  0.0   \n",
       "1                                  0.0   \n",
       "2                                  0.0   \n",
       "3                                  0.0   \n",
       "4                                  0.0   \n",
       "\n",
       "   categirical_encoder__street_Інститутська  \\\n",
       "0                                       0.0   \n",
       "1                                       0.0   \n",
       "2                                       0.0   \n",
       "3                                       0.0   \n",
       "4                                       0.0   \n",
       "\n",
       "   categirical_encoder__street_Іскрівська  \\\n",
       "0                                     0.0   \n",
       "1                                     0.0   \n",
       "2                                     0.0   \n",
       "3                                     0.0   \n",
       "4                                     0.0   \n",
       "\n",
       "   categirical_encoder__street_Автозаводська  \\\n",
       "0                                        0.0   \n",
       "1                                        0.0   \n",
       "2                                        0.0   \n",
       "3                                        0.0   \n",
       "4                                        0.0   \n",
       "\n",
       "   categirical_encoder__street_Азербайджанська  ...  \\\n",
       "0                                          0.0  ...   \n",
       "1                                          0.0  ...   \n",
       "2                                          0.0  ...   \n",
       "3                                          0.0  ...   \n",
       "4                                          0.0  ...   \n",
       "\n",
       "   categirical_encoder__street_Ясинуватський  numeric_encoder__rooms  \\\n",
       "0                                        0.0               -0.228606   \n",
       "1                                        0.0                1.715265   \n",
       "2                                        0.0                0.743330   \n",
       "3                                        0.0               -1.200542   \n",
       "4                                        0.0               -0.228606   \n",
       "\n",
       "   numeric_encoder__price_per_m2  numeric_encoder__level  \\\n",
       "0                       0.029565               -0.368433   \n",
       "1                      -0.202746                2.284285   \n",
       "2                      -0.048146                2.284285   \n",
       "3                      -0.160103                0.368433   \n",
       "4                      -0.131291                1.252673   \n",
       "\n",
       "   numeric_encoder__levels  numeric_encoder__year  \\\n",
       "0                -1.039572              -1.260493   \n",
       "1                 1.006457               0.758392   \n",
       "2                 1.006457               0.428778   \n",
       "3                -0.558153               0.552384   \n",
       "4                 1.006457               0.387577   \n",
       "\n",
       "   numeric_encoder__area_total  numeric_encoder__area_living  \\\n",
       "0                    -0.346898                      0.238218   \n",
       "1                     0.932510                      1.164597   \n",
       "2                     0.395984                     -0.147773   \n",
       "3                    -1.048509                     -1.074152   \n",
       "4                    -0.305627                     -0.147773   \n",
       "\n",
       "   numeric_encoder__area_kitchen  numeric_encoder__area_comfort  \n",
       "0                      -0.748304                      -0.612680  \n",
       "1                       0.073077                       0.397574  \n",
       "2                      -0.161603                       0.723462  \n",
       "3                      -1.217665                      -0.482324  \n",
       "4                      -0.161603                      -0.384558  \n",
       "\n",
       "[5 rows x 279 columns]"
      ]
     },
     "execution_count": 26,
     "metadata": {},
     "output_type": "execute_result"
    }
   ],
   "source": [
    "# Проінспектувати вихідний датасет `apartment_transformed`\n",
    "apartment_transformed.head()"
   ]
  },
  {
   "cell_type": "code",
   "execution_count": 27,
   "id": "36a9ed55",
   "metadata": {},
   "outputs": [
    {
     "data": {
      "text/html": [
       "<div>\n",
       "<style scoped>\n",
       "    .dataframe tbody tr th:only-of-type {\n",
       "        vertical-align: middle;\n",
       "    }\n",
       "\n",
       "    .dataframe tbody tr th {\n",
       "        vertical-align: top;\n",
       "    }\n",
       "\n",
       "    .dataframe thead th {\n",
       "        text-align: right;\n",
       "    }\n",
       "</style>\n",
       "<table border=\"1\" class=\"dataframe\">\n",
       "  <thead>\n",
       "    <tr style=\"text-align: right;\">\n",
       "      <th></th>\n",
       "      <th>Price</th>\n",
       "      <th>categirical_encoder__street_Івана Мазепи</th>\n",
       "      <th>categirical_encoder__street_Івана Пулюя</th>\n",
       "      <th>categirical_encoder__street_Івана Федорова</th>\n",
       "      <th>categirical_encoder__street_Івашкевича</th>\n",
       "      <th>categirical_encoder__street_Іллєнка</th>\n",
       "      <th>categirical_encoder__street_Інститутська</th>\n",
       "      <th>categirical_encoder__street_Іскрівська</th>\n",
       "      <th>categirical_encoder__street_Автозаводська</th>\n",
       "      <th>categirical_encoder__street_Азербайджанська</th>\n",
       "      <th>...</th>\n",
       "      <th>categirical_encoder__street_Ясинуватський</th>\n",
       "      <th>numeric_encoder__rooms</th>\n",
       "      <th>numeric_encoder__price_per_m2</th>\n",
       "      <th>numeric_encoder__level</th>\n",
       "      <th>numeric_encoder__levels</th>\n",
       "      <th>numeric_encoder__year</th>\n",
       "      <th>numeric_encoder__area_total</th>\n",
       "      <th>numeric_encoder__area_living</th>\n",
       "      <th>numeric_encoder__area_kitchen</th>\n",
       "      <th>numeric_encoder__area_comfort</th>\n",
       "    </tr>\n",
       "  </thead>\n",
       "  <tbody>\n",
       "    <tr>\n",
       "      <th>count</th>\n",
       "      <td>6.760000e+02</td>\n",
       "      <td>676.000000</td>\n",
       "      <td>676.000000</td>\n",
       "      <td>676.000000</td>\n",
       "      <td>676.000000</td>\n",
       "      <td>676.000000</td>\n",
       "      <td>676.000000</td>\n",
       "      <td>676.000000</td>\n",
       "      <td>676.000000</td>\n",
       "      <td>676.000000</td>\n",
       "      <td>...</td>\n",
       "      <td>676.000000</td>\n",
       "      <td>6.760000e+02</td>\n",
       "      <td>6.760000e+02</td>\n",
       "      <td>6.760000e+02</td>\n",
       "      <td>6.760000e+02</td>\n",
       "      <td>6.760000e+02</td>\n",
       "      <td>6.760000e+02</td>\n",
       "      <td>6.760000e+02</td>\n",
       "      <td>6.760000e+02</td>\n",
       "      <td>6.760000e+02</td>\n",
       "    </tr>\n",
       "    <tr>\n",
       "      <th>mean</th>\n",
       "      <td>1.980334e+05</td>\n",
       "      <td>0.007396</td>\n",
       "      <td>0.001479</td>\n",
       "      <td>0.005917</td>\n",
       "      <td>0.001479</td>\n",
       "      <td>0.002959</td>\n",
       "      <td>0.002959</td>\n",
       "      <td>0.001479</td>\n",
       "      <td>0.001479</td>\n",
       "      <td>0.001479</td>\n",
       "      <td>...</td>\n",
       "      <td>0.002959</td>\n",
       "      <td>2.194169e-16</td>\n",
       "      <td>5.255494e-17</td>\n",
       "      <td>-1.576648e-17</td>\n",
       "      <td>1.340151e-16</td>\n",
       "      <td>-1.757306e-15</td>\n",
       "      <td>-1.024821e-16</td>\n",
       "      <td>-7.883240e-18</td>\n",
       "      <td>6.569367e-18</td>\n",
       "      <td>4.467170e-17</td>\n",
       "    </tr>\n",
       "    <tr>\n",
       "      <th>std</th>\n",
       "      <td>6.797337e+05</td>\n",
       "      <td>0.085747</td>\n",
       "      <td>0.038462</td>\n",
       "      <td>0.076752</td>\n",
       "      <td>0.038462</td>\n",
       "      <td>0.054353</td>\n",
       "      <td>0.054353</td>\n",
       "      <td>0.038462</td>\n",
       "      <td>0.038462</td>\n",
       "      <td>0.038462</td>\n",
       "      <td>...</td>\n",
       "      <td>0.054353</td>\n",
       "      <td>1.000740e+00</td>\n",
       "      <td>1.000740e+00</td>\n",
       "      <td>1.000740e+00</td>\n",
       "      <td>1.000740e+00</td>\n",
       "      <td>1.000740e+00</td>\n",
       "      <td>1.000740e+00</td>\n",
       "      <td>1.000740e+00</td>\n",
       "      <td>1.000740e+00</td>\n",
       "      <td>1.000740e+00</td>\n",
       "    </tr>\n",
       "    <tr>\n",
       "      <th>min</th>\n",
       "      <td>1.009210e+04</td>\n",
       "      <td>0.000000</td>\n",
       "      <td>0.000000</td>\n",
       "      <td>0.000000</td>\n",
       "      <td>0.000000</td>\n",
       "      <td>0.000000</td>\n",
       "      <td>0.000000</td>\n",
       "      <td>0.000000</td>\n",
       "      <td>0.000000</td>\n",
       "      <td>0.000000</td>\n",
       "      <td>...</td>\n",
       "      <td>0.000000</td>\n",
       "      <td>-1.200542e+00</td>\n",
       "      <td>-2.634989e-01</td>\n",
       "      <td>-1.252673e+00</td>\n",
       "      <td>-1.882054e+00</td>\n",
       "      <td>-5.751483e+00</td>\n",
       "      <td>-1.316773e+00</td>\n",
       "      <td>-1.189949e+00</td>\n",
       "      <td>-1.452345e+00</td>\n",
       "      <td>-8.082124e-01</td>\n",
       "    </tr>\n",
       "    <tr>\n",
       "      <th>25%</th>\n",
       "      <td>6.500000e+04</td>\n",
       "      <td>0.000000</td>\n",
       "      <td>0.000000</td>\n",
       "      <td>0.000000</td>\n",
       "      <td>0.000000</td>\n",
       "      <td>0.000000</td>\n",
       "      <td>0.000000</td>\n",
       "      <td>0.000000</td>\n",
       "      <td>0.000000</td>\n",
       "      <td>0.000000</td>\n",
       "      <td>...</td>\n",
       "      <td>0.000000</td>\n",
       "      <td>-1.200542e+00</td>\n",
       "      <td>-1.533736e-01</td>\n",
       "      <td>-8.105529e-01</td>\n",
       "      <td>-1.039572e+00</td>\n",
       "      <td>-1.892476e-01</td>\n",
       "      <td>-5.532545e-01</td>\n",
       "      <td>-4.179668e-01</td>\n",
       "      <td>-5.136236e-01</td>\n",
       "      <td>-3.845577e-01</td>\n",
       "    </tr>\n",
       "    <tr>\n",
       "      <th>50%</th>\n",
       "      <td>1.034500e+05</td>\n",
       "      <td>0.000000</td>\n",
       "      <td>0.000000</td>\n",
       "      <td>0.000000</td>\n",
       "      <td>0.000000</td>\n",
       "      <td>0.000000</td>\n",
       "      <td>0.000000</td>\n",
       "      <td>0.000000</td>\n",
       "      <td>0.000000</td>\n",
       "      <td>0.000000</td>\n",
       "      <td>...</td>\n",
       "      <td>0.000000</td>\n",
       "      <td>-2.286062e-01</td>\n",
       "      <td>-8.700196e-02</td>\n",
       "      <td>-2.210599e-01</td>\n",
       "      <td>4.361965e-02</td>\n",
       "      <td>3.875767e-01</td>\n",
       "      <td>-2.024489e-01</td>\n",
       "      <td>-1.477730e-01</td>\n",
       "      <td>-1.616031e-01</td>\n",
       "      <td>-2.216136e-01</td>\n",
       "    </tr>\n",
       "    <tr>\n",
       "      <th>75%</th>\n",
       "      <td>1.689018e+05</td>\n",
       "      <td>0.000000</td>\n",
       "      <td>0.000000</td>\n",
       "      <td>0.000000</td>\n",
       "      <td>0.000000</td>\n",
       "      <td>0.000000</td>\n",
       "      <td>0.000000</td>\n",
       "      <td>0.000000</td>\n",
       "      <td>0.000000</td>\n",
       "      <td>0.000000</td>\n",
       "      <td>...</td>\n",
       "      <td>0.000000</td>\n",
       "      <td>7.433296e-01</td>\n",
       "      <td>1.314609e-02</td>\n",
       "      <td>6.631796e-01</td>\n",
       "      <td>8.861021e-01</td>\n",
       "      <td>6.347872e-01</td>\n",
       "      <td>2.102636e-01</td>\n",
       "      <td>8.382176e-02</td>\n",
       "      <td>7.307724e-02</td>\n",
       "      <td>7.168577e-02</td>\n",
       "    </tr>\n",
       "    <tr>\n",
       "      <th>max</th>\n",
       "      <td>1.570000e+07</td>\n",
       "      <td>1.000000</td>\n",
       "      <td>1.000000</td>\n",
       "      <td>1.000000</td>\n",
       "      <td>1.000000</td>\n",
       "      <td>1.000000</td>\n",
       "      <td>1.000000</td>\n",
       "      <td>1.000000</td>\n",
       "      <td>1.000000</td>\n",
       "      <td>1.000000</td>\n",
       "      <td>...</td>\n",
       "      <td>1.000000</td>\n",
       "      <td>4.631073e+00</td>\n",
       "      <td>2.550671e+01</td>\n",
       "      <td>3.463271e+00</td>\n",
       "      <td>3.533904e+00</td>\n",
       "      <td>8.819976e-01</td>\n",
       "      <td>9.104218e+00</td>\n",
       "      <td>1.077578e+01</td>\n",
       "      <td>7.348168e+00</td>\n",
       "      <td>1.428041e+01</td>\n",
       "    </tr>\n",
       "  </tbody>\n",
       "</table>\n",
       "<p>8 rows × 279 columns</p>\n",
       "</div>"
      ],
      "text/plain": [
       "              Price  categirical_encoder__street_Івана Мазепи  \\\n",
       "count  6.760000e+02                                676.000000   \n",
       "mean   1.980334e+05                                  0.007396   \n",
       "std    6.797337e+05                                  0.085747   \n",
       "min    1.009210e+04                                  0.000000   \n",
       "25%    6.500000e+04                                  0.000000   \n",
       "50%    1.034500e+05                                  0.000000   \n",
       "75%    1.689018e+05                                  0.000000   \n",
       "max    1.570000e+07                                  1.000000   \n",
       "\n",
       "       categirical_encoder__street_Івана Пулюя  \\\n",
       "count                               676.000000   \n",
       "mean                                  0.001479   \n",
       "std                                   0.038462   \n",
       "min                                   0.000000   \n",
       "25%                                   0.000000   \n",
       "50%                                   0.000000   \n",
       "75%                                   0.000000   \n",
       "max                                   1.000000   \n",
       "\n",
       "       categirical_encoder__street_Івана Федорова  \\\n",
       "count                                  676.000000   \n",
       "mean                                     0.005917   \n",
       "std                                      0.076752   \n",
       "min                                      0.000000   \n",
       "25%                                      0.000000   \n",
       "50%                                      0.000000   \n",
       "75%                                      0.000000   \n",
       "max                                      1.000000   \n",
       "\n",
       "       categirical_encoder__street_Івашкевича  \\\n",
       "count                              676.000000   \n",
       "mean                                 0.001479   \n",
       "std                                  0.038462   \n",
       "min                                  0.000000   \n",
       "25%                                  0.000000   \n",
       "50%                                  0.000000   \n",
       "75%                                  0.000000   \n",
       "max                                  1.000000   \n",
       "\n",
       "       categirical_encoder__street_Іллєнка  \\\n",
       "count                           676.000000   \n",
       "mean                              0.002959   \n",
       "std                               0.054353   \n",
       "min                               0.000000   \n",
       "25%                               0.000000   \n",
       "50%                               0.000000   \n",
       "75%                               0.000000   \n",
       "max                               1.000000   \n",
       "\n",
       "       categirical_encoder__street_Інститутська  \\\n",
       "count                                676.000000   \n",
       "mean                                   0.002959   \n",
       "std                                    0.054353   \n",
       "min                                    0.000000   \n",
       "25%                                    0.000000   \n",
       "50%                                    0.000000   \n",
       "75%                                    0.000000   \n",
       "max                                    1.000000   \n",
       "\n",
       "       categirical_encoder__street_Іскрівська  \\\n",
       "count                              676.000000   \n",
       "mean                                 0.001479   \n",
       "std                                  0.038462   \n",
       "min                                  0.000000   \n",
       "25%                                  0.000000   \n",
       "50%                                  0.000000   \n",
       "75%                                  0.000000   \n",
       "max                                  1.000000   \n",
       "\n",
       "       categirical_encoder__street_Автозаводська  \\\n",
       "count                                 676.000000   \n",
       "mean                                    0.001479   \n",
       "std                                     0.038462   \n",
       "min                                     0.000000   \n",
       "25%                                     0.000000   \n",
       "50%                                     0.000000   \n",
       "75%                                     0.000000   \n",
       "max                                     1.000000   \n",
       "\n",
       "       categirical_encoder__street_Азербайджанська  ...  \\\n",
       "count                                   676.000000  ...   \n",
       "mean                                      0.001479  ...   \n",
       "std                                       0.038462  ...   \n",
       "min                                       0.000000  ...   \n",
       "25%                                       0.000000  ...   \n",
       "50%                                       0.000000  ...   \n",
       "75%                                       0.000000  ...   \n",
       "max                                       1.000000  ...   \n",
       "\n",
       "       categirical_encoder__street_Ясинуватський  numeric_encoder__rooms  \\\n",
       "count                                 676.000000            6.760000e+02   \n",
       "mean                                    0.002959            2.194169e-16   \n",
       "std                                     0.054353            1.000740e+00   \n",
       "min                                     0.000000           -1.200542e+00   \n",
       "25%                                     0.000000           -1.200542e+00   \n",
       "50%                                     0.000000           -2.286062e-01   \n",
       "75%                                     0.000000            7.433296e-01   \n",
       "max                                     1.000000            4.631073e+00   \n",
       "\n",
       "       numeric_encoder__price_per_m2  numeric_encoder__level  \\\n",
       "count                   6.760000e+02            6.760000e+02   \n",
       "mean                    5.255494e-17           -1.576648e-17   \n",
       "std                     1.000740e+00            1.000740e+00   \n",
       "min                    -2.634989e-01           -1.252673e+00   \n",
       "25%                    -1.533736e-01           -8.105529e-01   \n",
       "50%                    -8.700196e-02           -2.210599e-01   \n",
       "75%                     1.314609e-02            6.631796e-01   \n",
       "max                     2.550671e+01            3.463271e+00   \n",
       "\n",
       "       numeric_encoder__levels  numeric_encoder__year  \\\n",
       "count             6.760000e+02           6.760000e+02   \n",
       "mean              1.340151e-16          -1.757306e-15   \n",
       "std               1.000740e+00           1.000740e+00   \n",
       "min              -1.882054e+00          -5.751483e+00   \n",
       "25%              -1.039572e+00          -1.892476e-01   \n",
       "50%               4.361965e-02           3.875767e-01   \n",
       "75%               8.861021e-01           6.347872e-01   \n",
       "max               3.533904e+00           8.819976e-01   \n",
       "\n",
       "       numeric_encoder__area_total  numeric_encoder__area_living  \\\n",
       "count                 6.760000e+02                  6.760000e+02   \n",
       "mean                 -1.024821e-16                 -7.883240e-18   \n",
       "std                   1.000740e+00                  1.000740e+00   \n",
       "min                  -1.316773e+00                 -1.189949e+00   \n",
       "25%                  -5.532545e-01                 -4.179668e-01   \n",
       "50%                  -2.024489e-01                 -1.477730e-01   \n",
       "75%                   2.102636e-01                  8.382176e-02   \n",
       "max                   9.104218e+00                  1.077578e+01   \n",
       "\n",
       "       numeric_encoder__area_kitchen  numeric_encoder__area_comfort  \n",
       "count                   6.760000e+02                   6.760000e+02  \n",
       "mean                    6.569367e-18                   4.467170e-17  \n",
       "std                     1.000740e+00                   1.000740e+00  \n",
       "min                    -1.452345e+00                  -8.082124e-01  \n",
       "25%                    -5.136236e-01                  -3.845577e-01  \n",
       "50%                    -1.616031e-01                  -2.216136e-01  \n",
       "75%                     7.307724e-02                   7.168577e-02  \n",
       "max                     7.348168e+00                   1.428041e+01  \n",
       "\n",
       "[8 rows x 279 columns]"
      ]
     },
     "execution_count": 27,
     "metadata": {},
     "output_type": "execute_result"
    }
   ],
   "source": [
    "apartment_transformed.describe()"
   ]
  },
  {
   "cell_type": "code",
   "execution_count": 28,
   "id": "0ebb030d",
   "metadata": {},
   "outputs": [
    {
     "data": {
      "text/plain": [
       "(676, 279)"
      ]
     },
     "execution_count": 28,
     "metadata": {},
     "output_type": "execute_result"
    }
   ],
   "source": [
    "apartment_transformed.shape"
   ]
  },
  {
   "cell_type": "code",
   "execution_count": 29,
   "id": "3fca0d30",
   "metadata": {
    "hidden": true
   },
   "outputs": [],
   "source": [
    "# зберегти підготовлений датасет в csv-файлі `apartment_transformed.csv`\n",
    "\n",
    "apartment_transformed.to_csv('apartment_transformed.csv')"
   ]
  }
 ],
 "metadata": {
  "kernelspec": {
   "display_name": "Python 3 (ipykernel)",
   "language": "python",
   "name": "python3"
  },
  "language_info": {
   "codemirror_mode": {
    "name": "ipython",
    "version": 3
   },
   "file_extension": ".py",
   "mimetype": "text/x-python",
   "name": "python",
   "nbconvert_exporter": "python",
   "pygments_lexer": "ipython3",
   "version": "3.9.16"
  },
  "varInspector": {
   "cols": {
    "lenName": 16,
    "lenType": 16,
    "lenVar": 40
   },
   "kernels_config": {
    "python": {
     "delete_cmd_postfix": "",
     "delete_cmd_prefix": "del ",
     "library": "var_list.py",
     "varRefreshCmd": "print(var_dic_list())"
    },
    "r": {
     "delete_cmd_postfix": ") ",
     "delete_cmd_prefix": "rm(",
     "library": "var_list.r",
     "varRefreshCmd": "cat(var_dic_list()) "
    }
   },
   "types_to_exclude": [
    "module",
    "function",
    "builtin_function_or_method",
    "instance",
    "_Feature"
   ],
   "window_display": false
  }
 },
 "nbformat": 4,
 "nbformat_minor": 5
}
